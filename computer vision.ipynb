{
 "cells": [
  {
   "cell_type": "code",
   "execution_count": 1,
   "id": "42297522",
   "metadata": {},
   "outputs": [
    {
     "name": "stdout",
     "output_type": "stream",
     "text": [
      "Requirement already satisfied: opencv-python in c:\\programdata\\anaconda3\\lib\\site-packages (4.10.0.84)\n",
      "Requirement already satisfied: numpy>=1.17.0 in c:\\programdata\\anaconda3\\lib\\site-packages (from opencv-python) (1.26.4)\n",
      "Note: you may need to restart the kernel to use updated packages.\n"
     ]
    }
   ],
   "source": [
    "pip install opencv-python"
   ]
  },
  {
   "cell_type": "code",
   "execution_count": null,
   "id": "1365fde3",
   "metadata": {},
   "outputs": [],
   "source": [
    "import cv2\n",
    "image = cv2.imread('Pomeranian-1.Webp')\n",
    "cv2.imshow('Original Image',image)\n",
    "gray_image = cv2.cvtColor(image,cv2.COLOR_BGR2GRAY)\n",
    "cv2.imshow('Grayscale Image',gray_image)\n",
    "cv2.imWrite('gray_image.jpg',gray_image)\n",
    "cv2.WaitKey(0)\n",
    "cv2.destroyAllWindows()\n",
    "import cv2\n",
    "image = cv2.imread('Pomeranian-1.Webp')\n",
    "gray_image = cv2.cvtColor(image,cv2.COLOR_BGR2GRAY)\n",
    "cv2.imwrite('Pomeranian-1-gray.webp',gray_image)\n",
    "edges = cv2.Canny(gray_image,100,200)\n",
    "cv2.imwrite('Pomeranian-1edges.webp',edges)\n",
    "cv2.imshow('Edge Detection',edges)\n",
    "cv2.waitKey(0)\n",
    "cv2.destroyAllows()"
   ]
  }
 ],
 "metadata": {
  "kernelspec": {
   "display_name": "Python 3 (ipykernel)",
   "language": "python",
   "name": "python3"
  },
  "language_info": {
   "codemirror_mode": {
    "name": "ipython",
    "version": 3
   },
   "file_extension": ".py",
   "mimetype": "text/x-python",
   "name": "python",
   "nbconvert_exporter": "python",
   "pygments_lexer": "ipython3",
   "version": "3.9.7"
  }
 },
 "nbformat": 4,
 "nbformat_minor": 5
}
